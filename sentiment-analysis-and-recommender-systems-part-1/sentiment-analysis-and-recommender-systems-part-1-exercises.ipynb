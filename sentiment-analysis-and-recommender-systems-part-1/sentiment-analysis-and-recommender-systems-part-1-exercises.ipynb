{
 "cells": [
  {
   "cell_type": "markdown",
   "metadata": {},
   "source": [
    "# Sentiment Analysis and Recommender Systems Part 1 - Exercises"
   ]
  },
  {
   "cell_type": "markdown",
   "metadata": {},
   "source": [
    "In the following exercises, we will work with data from movie reviews for the sentiment analysis. The movie reviews were scraped from a website. Each review is a document and, collectively, the reviews form the corpus. We will be using the `movie_reviews.csv` file today!"
   ]
  },
  {
   "cell_type": "markdown",
   "metadata": {},
   "source": [
    "## Exercise 1"
   ]
  },
  {
   "cell_type": "markdown",
   "metadata": {},
   "source": [
    "#### Task 1\n",
    "##### Load the following packages/libraries that are used in this module:\n",
    "##### pandas, numpy, pickle (Helper packages); nltk (natural language toolkit for text processing); scikit-learn; matplotlib (for visualizing)"
   ]
  },
  {
   "cell_type": "markdown",
   "metadata": {},
   "source": [
    "#### Result:"
   ]
  },
  {
   "cell_type": "markdown",
   "metadata": {},
   "source": [
    "#### Task 2\n",
    "##### Set working directory to folder where the dataset is present."
   ]
  },
  {
   "cell_type": "markdown",
   "metadata": {},
   "source": [
    "#### Result:"
   ]
  },
  {
   "cell_type": "markdown",
   "metadata": {},
   "source": [
    "#### Task 3\n",
    "\n",
    "##### Load the `movie_reviews.csv` file and preview the data.\n",
    "##### Execute the below chunk of code that performs the following steps in order to clean the movie reviews data.\n",
    "\n",
    "    1. Convert all characters to lower case \n",
    "    2. Remove stop words \n",
    "    3. Remove punctuation, numbers, and all other symbols that are not letters \n",
    "    4. Stem words\n",
    "    5. Filter the reviews which have greater than three words.\n",
    "    6. Save the cleaned reviews in the list `reviews_clean_list` and \n",
    "    7. Create a Document-Term Matrix and save it as `reviews_DTM_array.` \n"
   ]
  },
  {
   "cell_type": "markdown",
   "metadata": {},
   "source": [
    "#### Result:"
   ]
  },
  {
   "cell_type": "markdown",
   "metadata": {},
   "source": [
    "#### Task 4\n",
    "\n",
    "##### Print the first 10 reviews from `reviews_clean_list`.\n",
    "\n",
    "#### Result:"
   ]
  },
  {
   "cell_type": "markdown",
   "metadata": {},
   "source": [
    "## Exercise 2"
   ]
  },
  {
   "cell_type": "markdown",
   "metadata": {},
   "source": [
    "#### Task 1\n",
    "##### We want to analyze the sentiment of the movie reviews.\n",
    "##### Let us first add the sentiment labels to our cleaned reviews.\n",
    "##### Load the sentiment analysis function we used in our module.\n",
    "\n",
    "##### This function outputs a list of labels for each chat message:"
   ]
  },
  {
   "cell_type": "markdown",
   "metadata": {},
   "source": [
    "#### Result:"
   ]
  },
  {
   "cell_type": "markdown",
   "metadata": {},
   "source": [
    "#### Task 2\n",
    "##### Assign labels to the `reviews_clean_list` using the `sentiment_analysis` function and save to them to `score_labels` variable.\n",
    "##### Print the first 5 labels."
   ]
  },
  {
   "cell_type": "markdown",
   "metadata": {},
   "source": [
    "#### Result:"
   ]
  },
  {
   "cell_type": "markdown",
   "metadata": {},
   "source": [
    "#### Task 3\n",
    "##### Save `score_labels`  as `score_labels_ex.sav`, `reviews_clean_list` as `reviews_clean_list_ex.sav`, and `reviews_DTM_array` as `reviews_DTM_array.sav` in the data_dir for using in next session.\n",
    "\n",
    "#### Result:"
   ]
  }
 ],
 "metadata": {
  "interpreter": {
   "hash": "af1c2328f5544355579310f76569f81b262cdac47b296e1f8c8cfd250fec34f9"
  },
  "kernelspec": {
   "display_name": "Python 3",
   "language": "python",
   "name": "python3"
  },
  "language_info": {
   "codemirror_mode": {
    "name": "ipython",
    "version": 3
   },
   "file_extension": ".py",
   "mimetype": "text/x-python",
   "name": "python",
   "nbconvert_exporter": "python",
   "pygments_lexer": "ipython3",
   "version": "3.8.3"
  },
  "toc": {
   "base_numbering": 1,
   "nav_menu": {},
   "number_sections": true,
   "sideBar": true,
   "skip_h1_title": false,
   "title_cell": "Table of Contents",
   "title_sidebar": "Contents",
   "toc_cell": false,
   "toc_position": {},
   "toc_section_display": true,
   "toc_window_display": false
  }
 },
 "nbformat": 4,
 "nbformat_minor": 4
}
